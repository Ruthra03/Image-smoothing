{
 "cells": [
  {
   "cell_type": "code",
   "execution_count": 5,
   "metadata": {},
   "outputs": [],
   "source": [
    "import cv2\n",
    "import numpy as np"
   ]
  },
  {
   "cell_type": "code",
   "execution_count": 12,
   "metadata": {},
   "outputs": [],
   "source": [
    "# Read the image\n",
    "image = cv2.imread('car2.png')\n",
    "\n",
    "# Simple blur\n",
    "kernel_size = (5, 5)  \n",
    "blurred_image = cv2.blur(image, kernel_size) # Each pixel in the output is the mean of the surrounding pixels\n",
    "\n",
    "cv2.imwrite('simple_blur.jpg', blurred_image)\n",
    "cv2.imshow('Simple Blur', blurred_image)\n",
    "cv2.waitKey(0)\n",
    "cv2.destroyAllWindows()"
   ]
  },
  {
   "cell_type": "code",
   "execution_count": 6,
   "metadata": {},
   "outputs": [],
   "source": [
    "# Simple blur without scaling\n",
    "image_16s = np.int16(image) # Convert to CV_16S\n",
    "\n",
    "kernel_size = (5, 5)\n",
    "blurred_image_16s = cv2.blur(image_16s, kernel_size)\n",
    "\n",
    "blurred_image = np.uint8(np.clip(blurred_image_16s, 0, 255)) # Convert back to 8-bit depth if necessary\n",
    "\n",
    "cv2.imwrite('simple_blur_no_scaling.jpg', blurred_image)\n",
    "cv2.imshow('Simple Blur No Scaling', blurred_image)\n",
    "cv2.waitKey(0)\n",
    "cv2.destroyAllWindows()"
   ]
  },
  {
   "cell_type": "code",
   "execution_count": 7,
   "metadata": {},
   "outputs": [],
   "source": [
    "# Median blur\n",
    "kernel_size = 5  \n",
    "median_blurred_image = cv2.medianBlur(image, kernel_size) # Replace each pixels value with the median of surrounding pixels\n",
    "\n",
    "cv2.imwrite('median_blur.jpg', median_blurred_image)\n",
    "cv2.imshow('Median Blur', median_blurred_image)\n",
    "cv2.waitKey(0)\n",
    "cv2.destroyAllWindows()"
   ]
  },
  {
   "cell_type": "code",
   "execution_count": 8,
   "metadata": {},
   "outputs": [],
   "source": [
    "# Gaussian blur\n",
    "kernel_size = (5, 5)  \n",
    "sigma = 1.0  # Standard deviation \n",
    "gaussian_blurred_image = cv2.GaussianBlur(image, kernel_size, sigma)\n",
    "\n",
    "# Save or display the result\n",
    "cv2.imwrite('gaussian_blur.jpg', gaussian_blurred_image)\n",
    "cv2.imshow('Gaussian Blur', gaussian_blurred_image)\n",
    "cv2.waitKey(0)\n",
    "cv2.destroyAllWindows()"
   ]
  },
  {
   "cell_type": "code",
   "execution_count": 11,
   "metadata": {},
   "outputs": [],
   "source": [
    "# Bilateral filter\n",
    "d = 5  # Diameter of the pixel neighborhood\n",
    "sigma_color = 75  \n",
    "sigma_space = 75  \n",
    "bilateral_blurred_image = cv2.bilateralFilter(image, d, sigma_color, sigma_space)\n",
    "\n",
    "cv2.imwrite('bilateral_blur.jpg', bilateral_blurred_image)\n",
    "cv2.imshow('Bilateral Blur', bilateral_blurred_image)\n",
    "cv2.waitKey(0)\n",
    "cv2.destroyAllWindows()"
   ]
  },
  {
   "cell_type": "code",
   "execution_count": null,
   "metadata": {},
   "outputs": [],
   "source": []
  }
 ],
 "metadata": {
  "kernelspec": {
   "display_name": "Python 3",
   "language": "python",
   "name": "python3"
  },
  "language_info": {
   "codemirror_mode": {
    "name": "ipython",
    "version": 3
   },
   "file_extension": ".py",
   "mimetype": "text/x-python",
   "name": "python",
   "nbconvert_exporter": "python",
   "pygments_lexer": "ipython3",
   "version": "3.12.1"
  }
 },
 "nbformat": 4,
 "nbformat_minor": 2
}
